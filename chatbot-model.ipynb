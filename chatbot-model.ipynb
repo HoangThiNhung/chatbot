{
 "cells": [
  {
   "cell_type": "code",
   "execution_count": 1,
   "metadata": {},
   "outputs": [
    {
     "name": "stdout",
     "output_type": "stream",
     "text": [
      "hdf5 is not supported on this machine (please install/reinstall h5py for optimal experience)\n"
     ]
    }
   ],
   "source": [
    "import nltk\n",
    "from nltk.stem.lancaster import LancasterStemmer\n",
    "from pyvi.pyvi import ViTokenizer\n",
    "from ngram import ngrams\n",
    "from underthesea import pos_tag\n",
    "\n",
    "stemmer = LancasterStemmer()\n",
    "\n",
    "import numpy as np\n",
    "import tflearn\n",
    "import tensorflow as tf\n",
    "import random"
   ]
  },
  {
   "cell_type": "code",
   "execution_count": 2,
   "metadata": {},
   "outputs": [],
   "source": [
    "import json\n",
    "with open('data/training.json') as json_data:\n",
    "    intents = json.load(json_data)"
   ]
  },
  {
   "cell_type": "code",
   "execution_count": 3,
   "metadata": {},
   "outputs": [
    {
     "name": "stdout",
     "output_type": "stream",
     "text": [
      "['1', '1 tầng', '1 tầng có_thể', '1 tầng có_thể chứa', '30', '30 người', '30 người _', '30 người _ _', '30 người không', '30 người không _', '4', '4 cốc', '4 cốc trà_đá', '4 cốc trà_đá _', '4 người', '4 người bên', '4 người bên bạn', '4 người không', '4 người không _', '8', '8 người', '8 người không', '8 người không _', '_  bạn giúp', '_  bạn giúp mình', '_  bạn ơi', '_  bạn ơi giúp', '_  cho anh', '_  cho anh xem', '_  cho mình', '_  cho mình hỏi', '_  cho mình vị_trí', '_  chị làm_ơn', '_  chị làm_ơn cho', '_  chị tính', '_  chị tính tiền', '_  chị ơi', '_  chị ơi còn', '_  chỗ bạn', '_  chỗ bạn còn', '_  chỗ còn', '_  chỗ còn đủ', '_  còn chỗ', '_  còn chỗ không', '_  có ai', '_  có ai ở', '_  có_thể cho', '_  có_thể cho tôi', '_  em có', '_  em có phòng', '_  em đi', '_  em đi theo', '_  em ơi', '_  em ơi cho', '_  em ơi thanh_toán', '_  giá đồ', '_  giá đồ ở', '_  hóa_đơn của', '_  hóa_đơn của em', '_  hóa_đơn của mình', '_  hôm_nay có', '_  hôm_nay có khuyến_mại', '_  hôm_nay có món', '_  mang cho', '_  mang cho tôi', '_  mang đồ', '_  mang đồ ngoà', '_  mình có', '_  mình có 4', '_  mình có được', '_  mình có_thể', '_  mình có_thể thanh_toán', '_  mình cần', '_  mình cần không_gian', '_  mình không', '_  mình không mang', '_  mình muốn', '_  mình muốn nhận', '_  mình muốn đặt', '_  mình thanh_toán', '_  mình thanh_toán qua', '_  món nào', '_  món nào ở', '_  ngoà cơm', '_  ngoà cơm ra', '_  nhà_hàng có', '_  nhà_hàng có khuyến_mãi', '_  nhà_hàng có những', '_  phục_vụ thanh_toán', '_  phục_vụ thanh_toán giúp', '_  phục_vụ tính', '_  phục_vụ tính tiền', '_  quán có', '_  quán có cho', '_  quán có phòng', '_  quán có thêm', '_  quán hôm_nay', '_  quán hôm_nay có', '_  thanh_toán em', '_  thanh_toán em ơi', '_  trên 1', '_  trên 1 tầng', '_  tôi muốn', '_  tôi muốn gọi', '_  tôi muốn mượn', '_  tôi nghĩ', '_  tôi nghĩ như_vậy', '_  tôi tổ_chức', '_  tôi tổ_chức sinh_nhật', '_  tổng_hóa_đơn của', '_  tổng_hóa_đơn của mình', '_  vui_lòng cho', '_  vui_lòng cho chúng_tôi', '_  xin chào', '_  xin chào tôi', '_  ở đây', '_  ở đây có', '_ _  bạn giúp', '_ _  bạn ơi', '_ _  cho anh', '_ _  cho mình', '_ _  chị làm_ơn', '_ _  chị tính', '_ _  chị ơi', '_ _  chỗ bạn', '_ _  chỗ còn', '_ _  còn chỗ', '_ _  có ai', '_ _  có_thể cho', '_ _  em có', '_ _  em đi', '_ _  em ơi', '_ _  giá đồ', '_ _  hóa_đơn của', '_ _  hôm_nay có', '_ _  mang cho', '_ _  mang đồ', '_ _  mình có', '_ _  mình có_thể', '_ _  mình cần', '_ _  mình không', '_ _  mình muốn', '_ _  mình thanh_toán', '_ _  món nào', '_ _  ngoà cơm', '_ _  nhà_hàng có', '_ _  phục_vụ thanh_toán', '_ _  phục_vụ tính', '_ _  quán có', '_ _  quán hôm_nay', '_ _  thanh_toán em', '_ _  trên 1', '_ _  tôi muốn', '_ _  tôi nghĩ', '_ _  tôi tổ_chức', '_ _  tổng_hóa_đơn của', '_ _  vui_lòng cho', '_ _  xin chào', '_ _  ở đây', '_ _ _ bạn', '_ _ _ cho', '_ _ _ chị', '_ _ _ chỗ', '_ _ _ còn', '_ _ _ có', '_ _ _ có_thể', '_ _ _ em', '_ _ _ giá', '_ _ _ hóa_đơn', '_ _ _ hôm_nay', '_ _ _ mang', '_ _ _ mình', '_ _ _ món', '_ _ _ ngoà', '_ _ _ nhà_hàng', '_ _ _ phục_vụ', '_ _ _ quán', '_ _ _ thanh_toán', '_ _ _ trên', '_ _ _ tôi', '_ _ _ tổng_hóa_đơn', '_ _ _ vui_lòng', '_ _ _ xin', '_ _ _ ở', '_ _ bạn', '_ _ cho', '_ _ chị', '_ _ chỗ', '_ _ còn', '_ _ có', '_ _ có_thể', '_ _ em', '_ _ giá', '_ _ hóa_đơn', '_ _ hôm_nay', '_ _ mang', '_ _ mình', '_ _ món', '_ _ ngoà', '_ _ nhà_hàng', '_ _ phục_vụ', '_ _ quán', '_ _ thanh_toán', '_ _ trên', '_ _ tôi', '_ _ tổng_hóa_đơn', '_ _ vui_lòng', '_ _ xin', '_ _ ở', '_ bạn', '_ cho', '_ chị', '_ chỗ', '_ còn', '_ có', '_ có_thể', '_ em', '_ giá', '_ hóa_đơn', '_ hôm_nay', '_ mang', '_ mình', '_ món', '_ ngoà', '_ nhà_hàng', '_ phục_vụ', '_ quán', '_ thanh_toán', '_ trên', '_ tôi', '_ tổng_hóa_đơn', '_ vui_lòng', '_ xin', '_ ở', 'ai', 'ai ở', 'ai ở đây', 'ai ở đây không', 'anh', 'anh _', 'anh _ _', 'anh _ _ _', 'anh gọi', 'anh gọi món', 'anh gọi món _', 'anh xem', 'anh xem thực_đơn', 'anh xem thực_đơn của', 'atm', 'atm _', 'atm _ _', 'atm _ _ _', 'bao_nhiêu', 'bao_nhiêu _', 'bao_nhiêu _ _', 'bao_nhiêu _ _ _', 'bao_nhiêu tiền', 'bao_nhiêu tiền _', 'bao_nhiêu tiền _ _', 'bàn', 'bàn _', 'bàn _ _', 'bàn _ _ _', 'bàn cho', 'bàn cho 4', 'bàn cho 4 người', 'bàn không', 'bàn không _', 'bàn không _ _', 'bàn mình', 'bàn mình _', 'bàn mình _ _', 'bàn tiệc', 'bàn tiệc cho', 'bàn tiệc cho công_ty', 'bàn trống_không', 'bàn trống_không _', 'bàn trống_không _ _', 'bên', 'bên bạn', 'bên bạn còn', 'bên bạn còn đủ', 'bún_bò', 'bún_bò huế', 'bún_bò huế nem_lụi', 'bún_bò huế nem_lụi 4', 'bạn', 'bạn còn', 'bạn còn bàn', 'bạn còn bàn trống_không', 'bạn còn đủ', 'bạn còn đủ chỗ', 'bạn giúp', 'bạn giúp mình', 'bạn giúp mình thanh_toán', 'bạn ơi', 'bạn ơi _', 'bạn ơi giúp', 'bạn ơi giúp mình', 'bằng', 'bằng credit_card', 'bằng credit_card được', 'bằng credit_card được không', 'cho', 'cho 4', 'cho 4 người', 'cho 4 người không', 'cho 8', 'cho 8 người', 'cho 8 người không', 'cho anh', 'cho anh _', 'cho anh _ _', 'cho anh gọi', 'cho anh gọi món', 'cho anh xem', 'cho anh xem thực_đơn', 'cho chúng_tôi', 'cho chúng_tôi xem', 'cho chúng_tôi xem danh_sách', 'cho công_ty', 'cho công_ty tại', 'cho công_ty tại nhà_hàng', 'cho em', 'cho em xem', 'cho em xem menu', 'cho hơn', 'cho hơn 30', 'cho hơn 30 người', 'cho mang', 'cho mang đồ', 'cho mang đồ ăn', 'cho mình', 'cho mình hỏi', 'cho mình hỏi nhà_hàng', 'cho mình vị_trí', 'cho mình vị_trí rộng', 'cho tôi', 'cho tôi mượn', 'cho tôi mượn menu', 'cho tôi một_ít', 'cho tôi một_ít nước', 'chào', 'chào tôi', 'chào tôi muốn', 'chào tôi muốn gọi', 'chúng_tôi', 'chúng_tôi xem', 'chúng_tôi xem danh_sách', 'chúng_tôi xem danh_sách các', 'chưa', 'chưa _', 'chưa _ _', 'chưa _ _ _', 'chương_trình', 'chương_trình khuyến_mãi', 'chương_trình khuyến_mãi nào', 'chương_trình khuyến_mãi nào không', 'chị', 'chị làm_ơn', 'chị làm_ơn cho', 'chị làm_ơn cho em', 'chị tính', 'chị tính tiền', 'chị tính tiền giúp', 'chị ơi', 'chị ơi còn', 'chị ơi còn bàn', 'chỗ', 'chỗ bạn', 'chỗ bạn còn', 'chỗ bạn còn bàn', 'chỗ cho', 'chỗ cho hơn', 'chỗ cho hơn 30', 'chỗ còn', 'chỗ còn đủ', 'chỗ còn đủ cho', 'chỗ không', 'chỗ không _', 'chỗ không _ _', 'chỗ không anh', 'chỗ không anh _', 'chỗ nào', 'chỗ nào rộng', 'chỗ nào rộng rộng', 'chứ', 'chứ _', 'chứ _ _', 'chứ _ _ _', 'chứa', 'chứa được', 'chứa được 30', 'chứa được 30 người', 'credit_card', 'credit_card được', 'credit_card được không', 'credit_card được không _', 'các', 'các món', 'các món ăn', 'các món ăn _', 'còn', 'còn bàn', 'còn bàn cho', 'còn bàn cho 4', 'còn bàn không', 'còn bàn không _', 'còn bàn trống_không', 'còn bàn trống_không _', 'còn chỗ', 'còn chỗ không', 'còn chỗ không anh', 'còn món', 'còn món khác', 'còn món khác không', 'còn đủ', 'còn đủ cho', 'còn đủ cho 8', 'còn đủ chỗ', 'còn đủ chỗ không', 'có', 'có 4', 'có 4 người', 'có 4 người bên', 'có ai', 'có ai ở', 'có ai ở đây', 'có cho', 'có cho mang', 'có cho mang đồ', 'có chương_trình', 'có chương_trình khuyến_mãi', 'có chương_trình khuyến_mãi nào', 'có chỗ', 'có chỗ nào', 'có chỗ nào rộng', 'có khuyến_mãi', 'có khuyến_mãi gì', 'có khuyến_mãi gì không', 'có khuyến_mại', 'có khuyến_mại gì', 'có khuyến_mại gì không', 'có kèm', 'có kèm theo', 'có kèm theo vat', 'có món', 'có món gì', 'có món gì ngon', 'có những', 'có những khuyến_mãi', 'có những khuyến_mãi gì', 'có những loạ', 'có những loạ món', 'có những món', 'có những món nào', 'có phòng', 'có phòng nào', 'có phòng nào view', 'có phòng riêng', 'có phòng riêng không', 'có thêm', 'có thêm dịch_vụ', 'có thêm dịch_vụ phụ', 'có tính', 'có tính thêm', 'có tính thêm tiền', 'có vat', 'có vat chưa', 'có vat chưa _', 'có xuất_hóa', 'có xuất_hóa đơn', 'có xuất_hóa đơn đỏ', 'có được', 'có được mang', 'có được mang theo', 'có_thể', 'có_thể cho', 'có_thể cho tôi', 'có_thể cho tôi mượn', 'có_thể chứa', 'có_thể chứa được', 'có_thể chứa được 30', 'có_thể thanh_toán', 'có_thể thanh_toán bằng', 'có_thể thanh_toán bằng credit_card', 'có_thể thanh_toán giúp', 'có_thể thanh_toán giúp mình', 'công_ty', 'công_ty tại', 'công_ty tại nhà_hàng', 'công_ty tại nhà_hàng _', 'cơm', 'cơm ra', 'cơm ra thì', 'cơm ra thì còn', 'cần', 'cần không_gian', 'cần không_gian thật', 'cần không_gian thật yên_tĩnh', 'cốc', 'cốc trà_đá', 'cốc trà_đá _', 'cốc trà_đá _ _', 'của', 'của em', 'của em hết', 'của em hết bao_nhiêu', 'của mình', 'của mình có', 'của mình có kèm', 'của mình là', 'của mình là bao_nhiêu', 'của nhà_hàng', 'của nhà_hàng _', 'của nhà_hàng _ _', 'của quán', 'của quán _', 'của quán _ _', 'cửa_hàng', 'cửa_hàng thì', 'cửa_hàng thì có', 'cửa_hàng thì có những', 'danh_sách', 'danh_sách các', 'danh_sách các món', 'danh_sách các món ăn', 'dịch_vụ', 'dịch_vụ phụ', 'dịch_vụ phụ không', 'dịch_vụ phụ không _', 'em', 'em _', 'em _ _', 'em _ _ _', 'em có', 'em có phòng', 'em có phòng nào', 'em hết', 'em hết bao_nhiêu', 'em hết bao_nhiêu tiền', 'em với', 'em với nhé', 'em với nhé _', 'em xem', 'em xem menu', 'em xem menu _', 'em đi', 'em đi theo', 'em đi theo nhóm', 'em ơi', 'em ơi _', 'em ơi _ _', 'em ơi cho', 'em ơi cho anh', 'em ơi thanh_toán', 'em ơi thanh_toán giúp', 'giá', 'giá đồ', 'giá đồ ở', 'giá đồ ở đây', 'giúp', 'giúp bàn', 'giúp bàn mình', 'giúp bàn mình _', 'giúp cho', 'giúp cho anh', 'giúp cho anh _', 'giúp em', 'giúp em với', 'giúp em với nhé', 'giúp mình', 'giúp mình _', 'giúp mình _ _', 'giúp mình qua', 'giúp mình qua thẻ', 'giúp mình thanh_toán', 'giúp mình thanh_toán _', 'giúp mình thanh_toán với', 'gì', 'gì _', 'gì _ _', 'gì _ _ _', 'gì không', 'gì không _', 'gì không _ _', 'gì ngon', 'gì ngon không', 'gì ngon không _', 'gọi', 'gọi bún_bò', 'gọi bún_bò huế', 'gọi bún_bò huế nem_lụi', 'gọi món', 'gọi món _', 'gọi món _ _', 'gọi phục_vụ', 'gọi phục_vụ bàn', 'gọi phục_vụ bàn _', 'huế', 'huế nem_lụi', 'huế nem_lụi 4', 'huế nem_lụi 4 cốc', 'hóa_đơn', 'hóa_đơn của', 'hóa_đơn của em', 'hóa_đơn của em hết', 'hóa_đơn của mình', 'hóa_đơn của mình có', 'hóa_đơn đỏ', 'hóa_đơn đỏ _', 'hóa_đơn đỏ _ _', 'hôm_nay', 'hôm_nay có', 'hôm_nay có chương_trình', 'hôm_nay có chương_trình khuyến_mãi', 'hôm_nay có khuyến_mại', 'hôm_nay có khuyến_mại gì', 'hôm_nay có món', 'hôm_nay có món gì', 'hơn', 'hơn 30', 'hơn 30 người', 'hơn 30 người _', 'hết', 'hết bao_nhiêu', 'hết bao_nhiêu tiền', 'hết bao_nhiêu tiền _', 'hỏi', 'hỏi nhà_hàng', 'hỏi nhà_hàng còn', 'hỏi nhà_hàng còn bàn', 'khuyến_mãi', 'khuyến_mãi gì', 'khuyến_mãi gì _', 'khuyến_mãi gì _ _', 'khuyến_mãi gì không', 'khuyến_mãi gì không _', 'khuyến_mãi nào', 'khuyến_mãi nào không', 'khuyến_mãi nào không em', 'khuyến_mại', 'khuyến_mại gì', 'khuyến_mại gì không', 'khuyến_mại gì không _', 'khác', 'khác không', 'khác không _', 'khác không _ _', 'khác vào', 'khác vào nhà_hàng', 'khác vào nhà_hàng không', 'không', 'không _', 'không _ _', 'không _ _ _', 'không anh', 'không anh _', 'không anh _ _', 'không em', 'không em _', 'không em _ _', 'không mang', 'không mang theo', 'không mang theo tiền_mặt', 'không_gian', 'không_gian thật', 'không_gian thật yên_tĩnh', 'không_gian thật yên_tĩnh _', 'kèm', 'kèm theo', 'kèm theo vat', 'kèm theo vat không', 'loạ', 'loạ món', 'loạ món ăn', 'loạ món ăn nào', 'là', 'là bao_nhiêu', 'là bao_nhiêu _', 'là bao_nhiêu _ _', 'là ngon', 'là ngon nhất', 'là ngon nhất _', 'là đủ', 'là đủ rồi', 'là đủ rồi _', 'làm_ơn', 'làm_ơn cho', 'làm_ơn cho em', 'làm_ơn cho em xem', 'mang', 'mang cho', 'mang cho tôi', 'mang cho tôi một_ít', 'mang theo', 'mang theo tiền_mặt', 'mang theo tiền_mặt có_thể', 'mang theo đồi', 'mang theo đồi ăn', 'mang đồ', 'mang đồ ngoà', 'mang đồ ngoà vào', 'mang đồ ăn', 'mang đồ ăn ngoà', 'menu', 'menu _', 'menu _ _', 'menu _ _ _', 'menu được', 'menu được không', 'menu được không _', 'muốn', 'muốn gọi', 'muốn gọi bún_bò', 'muốn gọi bún_bò huế', 'muốn gọi món', 'muốn gọi món _', 'muốn gọi phục_vụ', 'muốn gọi phục_vụ bàn', 'muốn mượn', 'muốn mượn nenu', 'muốn mượn nenu của', 'muốn nhận', 'muốn nhận hóa_đơn', 'muốn nhận hóa_đơn đỏ', 'muốn đặt', 'muốn đặt bàn', 'muốn đặt bàn tiệc', 'mình', 'mình _', 'mình _ _', 'mình _ _ _', 'mình có', 'mình có 4', 'mình có 4 người', 'mình có kèm', 'mình có kèm theo', 'mình có được', 'mình có được mang', 'mình có_thể', 'mình có_thể thanh_toán', 'mình có_thể thanh_toán bằng', 'mình cần', 'mình cần không_gian', 'mình cần không_gian thật', 'mình hỏi', 'mình hỏi nhà_hàng', 'mình hỏi nhà_hàng còn', 'mình không', 'mình không mang', 'mình không mang theo', 'mình là', 'mình là bao_nhiêu', 'mình là bao_nhiêu _', 'mình muốn', 'mình muốn nhận', 'mình muốn nhận hóa_đơn', 'mình muốn đặt', 'mình muốn đặt bàn', 'mình qua', 'mình qua thẻ', 'mình qua thẻ atm', 'mình thanh_toán', 'mình thanh_toán _', 'mình thanh_toán _ _', 'mình thanh_toán qua', 'mình thanh_toán qua thẻ', 'mình thanh_toán với', 'mình thanh_toán với nhé', 'mình vị_trí', 'mình vị_trí rộng', 'mình vị_trí rộng đủ', 'món', 'món _', 'món _ _', 'món _ _ _', 'món gì', 'món gì ngon', 'món gì ngon không', 'món khác', 'món khác không', 'món khác không _', 'món nào', 'món nào _', 'món nào _ _', 'món nào ở', 'món nào ở đây', 'món ăn', 'món ăn _', 'món ăn _ _', 'món ăn nào', 'món ăn nào nhỉ', 'mượn', 'mượn menu', 'mượn menu được', 'mượn menu được không', 'mượn nenu', 'mượn nenu của', 'mượn nenu của nhà_hàng', 'một_ít', 'một_ít nước', 'một_ít nước được', 'một_ít nước được không', 'nem_lụi', 'nem_lụi 4', 'nem_lụi 4 cốc', 'nem_lụi 4 cốc trà_đá', 'nenu', 'nenu của', 'nenu của nhà_hàng', 'nenu của nhà_hàng _', 'nghĩ', 'nghĩ như_vậy', 'nghĩ như_vậy là', 'nghĩ như_vậy là đủ', 'ngon', 'ngon không', 'ngon không _', 'ngon không _ _', 'ngon nhất', 'ngon nhất _', 'ngon nhất _ _', 'ngoà', 'ngoà cơm', 'ngoà cơm ra', 'ngoà cơm ra thì', 'ngoà vào', 'ngoà vào có', 'ngoà vào có tính', 'ngoà vào không', 'ngoà vào không _', 'người', 'người _', 'người _ _', 'người _ _ _', 'người bên', 'người bên bạn', 'người bên bạn còn', 'người không', 'người không _', 'người không _ _', 'nhà_hàng', 'nhà_hàng _', 'nhà_hàng _ _', 'nhà_hàng _ _ _', 'nhà_hàng còn', 'nhà_hàng còn bàn', 'nhà_hàng còn bàn không', 'nhà_hàng có', 'nhà_hàng có khuyến_mãi', 'nhà_hàng có khuyến_mãi gì', 'nhà_hàng có những', 'nhà_hàng có những loạ', 'nhà_hàng không', 'nhà_hàng không _', 'nhà_hàng không _ _', 'nhé', 'nhé _', 'nhé _ _', 'nhé _ _ _', 'nhóm', 'nhóm có', 'nhóm có chỗ', 'nhóm có chỗ nào', 'như_vậy', 'như_vậy là', 'như_vậy là đủ', 'như_vậy là đủ rồi', 'nhất', 'nhất _', 'nhất _ _', 'nhất _ _ _', 'nhận', 'nhận hóa_đơn', 'nhận hóa_đơn đỏ', 'nhận hóa_đơn đỏ _', 'nhỉ', 'nhỉ _', 'nhỉ _ _', 'nhỉ _ _ _', 'những', 'những khuyến_mãi', 'những khuyến_mãi gì', 'những khuyến_mãi gì _', 'những loạ', 'những loạ món', 'những loạ món ăn', 'những món', 'những món nào', 'những món nào _', 'nào', 'nào _', 'nào _ _', 'nào _ _ _', 'nào không', 'nào không em', 'nào không em _', 'nào nhỉ', 'nào nhỉ _', 'nào nhỉ _ _', 'nào rộng', 'nào rộng rộng', 'nào rộng rộng không', 'nào view', 'nào view đẹp', 'nào view đẹp không', 'nào ở', 'nào ở đây', 'nào ở đây là', 'nước', 'nước được', 'nước được không', 'nước được không _', 'phòng', 'phòng nào', 'phòng nào view', 'phòng nào view đẹp', 'phòng riêng', 'phòng riêng không', 'phòng riêng không _', 'phụ', 'phụ không', 'phụ không _', 'phụ không _ _', 'phục_vụ', 'phục_vụ _', 'phục_vụ bàn', 'phục_vụ bàn _', 'phục_vụ bàn _ _', 'phục_vụ thanh_toán', 'phục_vụ thanh_toán giúp', 'phục_vụ thanh_toán giúp bàn', 'phục_vụ tính', 'phục_vụ tính tiền', 'phục_vụ tính tiền giúp', 'qua', 'qua thẻ', 'qua thẻ atm', 'qua thẻ atm _', 'qua thẻ được', 'qua thẻ được chứ', 'quán', 'quán _', 'quán _ _', 'quán _ _ _', 'quán có', 'quán có cho', 'quán có cho mang', 'quán có phòng', 'quán có phòng riêng', 'quán có thêm', 'quán có thêm dịch_vụ', 'quán hôm_nay', 'quán hôm_nay có', 'quán hôm_nay có chương_trình', 'ra', 'ra thì', 'ra thì còn', 'ra thì còn món', 'riêng', 'riêng không', 'riêng không _', 'riêng không _ _', 'rồi', 'rồi _', 'rồi _ _', 'rồi _ _ _', 'rộng', 'rộng không', 'rộng không _', 'rộng không _ _', 'rộng rộng', 'rộng rộng không', 'rộng rộng không _', 'rộng đủ', 'rộng đủ chỗ', 'rộng đủ chỗ cho', 'sinh_nhật', 'sinh_nhật tại', 'sinh_nhật tại cửa_hàng', 'sinh_nhật tại cửa_hàng thì', 'thanh_toán', 'thanh_toán _', 'thanh_toán _ _', 'thanh_toán _ _ _', 'thanh_toán bằng', 'thanh_toán bằng credit_card', 'thanh_toán bằng credit_card được', 'thanh_toán em', 'thanh_toán em ơi', 'thanh_toán em ơi _', 'thanh_toán giúp', 'thanh_toán giúp bàn', 'thanh_toán giúp bàn mình', 'thanh_toán giúp cho', 'thanh_toán giúp cho anh', 'thanh_toán giúp mình', 'thanh_toán giúp mình qua', 'thanh_toán qua', 'thanh_toán qua thẻ', 'thanh_toán qua thẻ được', 'thanh_toán với', 'thanh_toán với nhé', 'thanh_toán với nhé _', 'theo', 'theo nhóm', 'theo nhóm có', 'theo nhóm có chỗ', 'theo tiền_mặt', 'theo tiền_mặt có_thể', 'theo tiền_mặt có_thể thanh_toán', 'theo vat', 'theo vat không', 'theo vat không _', 'theo đồi', 'theo đồi ăn', 'theo đồi ăn khác', 'thêm', 'thêm dịch_vụ', 'thêm dịch_vụ phụ', 'thêm dịch_vụ phụ không', 'thêm tiền', 'thêm tiền không', 'thêm tiền không _', 'thì', 'thì còn', 'thì còn món', 'thì còn món khác', 'thì có', 'thì có những', 'thì có những khuyến_mãi', 'thật', 'thật yên_tĩnh', 'thật yên_tĩnh _', 'thật yên_tĩnh _ _', 'thẻ', 'thẻ atm', 'thẻ atm _', 'thẻ atm _ _', 'thẻ được', 'thẻ được chứ', 'thẻ được chứ _', 'thực_đơn', 'thực_đơn của', 'thực_đơn của quán', 'thực_đơn của quán _', 'tiền', 'tiền _', 'tiền _ _', 'tiền _ _ _', 'tiền giúp', 'tiền giúp em', 'tiền giúp em với', 'tiền giúp mình', 'tiền giúp mình _', 'tiền không', 'tiền không _', 'tiền không _ _', 'tiền_mặt', 'tiền_mặt có_thể', 'tiền_mặt có_thể thanh_toán', 'tiền_mặt có_thể thanh_toán giúp', 'tiệc', 'tiệc cho', 'tiệc cho công_ty', 'tiệc cho công_ty tại', 'trà_đá', 'trà_đá _', 'trà_đá _ _', 'trà_đá _ _ _', 'trên', 'trên 1', 'trên 1 tầng', 'trên 1 tầng có_thể', 'trống_không', 'trống_không _', 'trống_không _ _', 'trống_không _ _ _', 'tính', 'tính thêm', 'tính thêm tiền', 'tính thêm tiền không', 'tính tiền', 'tính tiền giúp', 'tính tiền giúp em', 'tính tiền giúp mình', 'tôi', 'tôi muốn', 'tôi muốn gọi', 'tôi muốn gọi bún_bò', 'tôi muốn gọi món', 'tôi muốn gọi phục_vụ', 'tôi muốn mượn', 'tôi muốn mượn nenu', 'tôi mượn', 'tôi mượn menu', 'tôi mượn menu được', 'tôi một_ít', 'tôi một_ít nước', 'tôi một_ít nước được', 'tôi nghĩ', 'tôi nghĩ như_vậy', 'tôi nghĩ như_vậy là', 'tôi tổ_chức', 'tôi tổ_chức sinh_nhật', 'tôi tổ_chức sinh_nhật tại', 'tại', 'tại cửa_hàng', 'tại cửa_hàng thì', 'tại cửa_hàng thì có', 'tại nhà_hàng', 'tại nhà_hàng _', 'tại nhà_hàng _ _', 'tầng', 'tầng có_thể', 'tầng có_thể chứa', 'tầng có_thể chứa được', 'tổ_chức', 'tổ_chức sinh_nhật', 'tổ_chức sinh_nhật tại', 'tổ_chức sinh_nhật tại cửa_hàng', 'tổng_hóa_đơn', 'tổng_hóa_đơn của', 'tổng_hóa_đơn của mình', 'tổng_hóa_đơn của mình là', 'vat', 'vat chưa', 'vat chưa _', 'vat chưa _ _', 'vat không', 'vat không _', 'vat không _ _', 'view', 'view đẹp', 'view đẹp không', 'view đẹp không _', 'vui_lòng', 'vui_lòng cho', 'vui_lòng cho chúng_tôi', 'vui_lòng cho chúng_tôi xem', 'vào', 'vào có', 'vào có tính', 'vào có tính thêm', 'vào không', 'vào không _', 'vào không _ _', 'vào nhà_hàng', 'vào nhà_hàng không', 'vào nhà_hàng không _', 'vị_trí', 'vị_trí rộng', 'vị_trí rộng đủ', 'vị_trí rộng đủ chỗ', 'với', 'với nhé', 'với nhé _', 'với nhé _ _', 'xem', 'xem danh_sách', 'xem danh_sách các', 'xem danh_sách các món', 'xem menu', 'xem menu _', 'xem menu _ _', 'xem thực_đơn', 'xem thực_đơn của', 'xem thực_đơn của quán', 'xin', 'xin chào', 'xin chào tôi', 'xin chào tôi muốn', 'xuất_hóa', 'xuất_hóa đơn', 'xuất_hóa đơn đỏ', 'xuất_hóa đơn đỏ không', 'yên_tĩnh', 'yên_tĩnh _', 'yên_tĩnh _ _', 'yên_tĩnh _ _ _', 'ăn', 'ăn _', 'ăn _ _', 'ăn _ _ _', 'ăn khác', 'ăn khác vào', 'ăn khác vào nhà_hàng', 'ăn ngoà', 'ăn ngoà vào', 'ăn ngoà vào không', 'ăn nào', 'ăn nào nhỉ', 'ăn nào nhỉ _', 'đi', 'đi theo', 'đi theo nhóm', 'đi theo nhóm có', 'đây', 'đây có', 'đây có những', 'đây có những món', 'đây có xuất_hóa', 'đây có xuất_hóa đơn', 'đây không', 'đây không _', 'đây không _ _', 'đây là', 'đây là ngon', 'đây là ngon nhất', 'đây đã', 'đây đã có', 'đây đã có vat', 'đã', 'đã có', 'đã có vat', 'đã có vat chưa', 'đơn', 'đơn đỏ', 'đơn đỏ không', 'đơn đỏ không _', 'được', 'được 30', 'được 30 người', 'được 30 người không', 'được chứ', 'được chứ _', 'được chứ _ _', 'được không', 'được không _', 'được không _ _', 'được mang', 'được mang theo', 'được mang theo đồi', 'đặt', 'đặt bàn', 'đặt bàn tiệc', 'đặt bàn tiệc cho', 'đẹp', 'đẹp không', 'đẹp không _', 'đẹp không _ _', 'đỏ', 'đỏ _', 'đỏ _ _', 'đỏ _ _ _', 'đỏ không', 'đỏ không _', 'đỏ không _ _', 'đồ', 'đồ ngoà', 'đồ ngoà vào', 'đồ ngoà vào có', 'đồ ăn', 'đồ ăn ngoà', 'đồ ăn ngoà vào', 'đồ ở', 'đồ ở đây', 'đồ ở đây đã', 'đồi', 'đồi ăn', 'đồi ăn khác', 'đồi ăn khác vào', 'đủ', 'đủ cho', 'đủ cho 8', 'đủ cho 8 người', 'đủ chỗ', 'đủ chỗ cho', 'đủ chỗ cho hơn', 'đủ chỗ không', 'đủ chỗ không _', 'đủ rồi', 'đủ rồi _', 'đủ rồi _ _', 'ơi', 'ơi _', 'ơi _ _', 'ơi _ _ _', 'ơi cho', 'ơi cho anh', 'ơi cho anh gọi', 'ơi còn', 'ơi còn bàn', 'ơi còn bàn cho', 'ơi giúp', 'ơi giúp mình', 'ơi giúp mình thanh_toán', 'ơi thanh_toán', 'ơi thanh_toán giúp', 'ơi thanh_toán giúp cho', 'ở', 'ở đây', 'ở đây có', 'ở đây có những', 'ở đây có xuất_hóa', 'ở đây không', 'ở đây không _', 'ở đây là', 'ở đây là ngon', 'ở đây đã', 'ở đây đã có']\n"
     ]
    }
   ],
   "source": [
    "words = []\n",
    "classes = []\n",
    "documents = []\n",
    "ignore_words = ['?', '!', ',', '.', 'xin_lỗi', 'và', 'ạ']\n",
    "\n",
    "for intent in intents['data']:\n",
    "    for pattern in intent['patterns']:\n",
    "\n",
    "        w = ViTokenizer.tokenize(pattern).split(' ')\n",
    "        w = [stemmer.stem(_w.lower()) for _w in w if _w not in ignore_words]\n",
    "        text = ngrams(w, 4, [])\n",
    "        words.extend(text)\n",
    "        documents.append((text, intent['tag']))\n",
    "        if intent['tag'] not in classes:\n",
    "            classes.append(intent['tag'])\n",
    "            \n",
    "words = sorted(list(set(words)))\n",
    "\n",
    "classes = sorted(list(set(classes)))\n",
    "\n",
    "print(words)"
   ]
  },
  {
   "cell_type": "code",
   "execution_count": 4,
   "metadata": {},
   "outputs": [],
   "source": [
    "#Create training data\n",
    "training = []\n",
    "output = []\n",
    "\n",
    "output_empty = [0] * len(classes)\n",
    "\n",
    "for doc in documents:\n",
    "    bag = []\n",
    "    pattern_words = doc[0]\n",
    "    pattern_words = [stemmer.stem(word.lower()) for word in pattern_words]\n",
    "\n",
    "    for w in words:\n",
    "        bag.append(1) if w in pattern_words else bag.append(0)\n",
    "\n",
    "    output_row = list(output_empty)\n",
    "    output_row[classes.index(doc[1])] = 1\n",
    "\n",
    "    training.append([bag, output_row])\n",
    "\n",
    "random.shuffle(training)\n",
    "training = np.array(training)\n",
    "\n",
    "train_x = list(training[:,0])\n",
    "train_y = list(training[:,1])"
   ]
  },
  {
   "cell_type": "code",
   "execution_count": 5,
   "metadata": {},
   "outputs": [
    {
     "name": "stdout",
     "output_type": "stream",
     "text": [
      "[0, 0, 0, 0, 0, 0, 0, 0, 0, 0, 0, 0, 0, 0, 0, 0, 0, 0, 0, 0, 0, 0, 0, 0, 0, 0, 0, 0, 0, 0, 0, 0, 0, 0, 0, 0, 0, 0, 0, 0, 0, 0, 0, 0, 0, 0, 0, 0, 0, 0, 0, 0, 0, 0, 0, 0, 0, 0, 0, 0, 0, 0, 0, 0, 0, 0, 0, 0, 0, 0, 0, 0, 0, 0, 0, 0, 1, 1, 0, 0, 0, 0, 0, 0, 0, 0, 0, 0, 0, 0, 0, 0, 0, 0, 0, 0, 0, 0, 0, 0, 0, 0, 0, 0, 0, 0, 0, 0, 0, 0, 0, 0, 0, 0, 0, 0, 0, 0, 0, 0, 0, 0, 0, 0, 0, 0, 0, 0, 0, 0, 0, 0, 0, 0, 0, 0, 0, 0, 0, 0, 0, 1, 0, 0, 0, 0, 0, 0, 0, 0, 0, 0, 0, 0, 0, 0, 0, 0, 0, 0, 0, 0, 0, 0, 0, 0, 0, 0, 0, 0, 0, 1, 0, 0, 0, 0, 0, 0, 0, 0, 0, 0, 0, 0, 0, 0, 0, 0, 0, 0, 0, 0, 0, 0, 0, 0, 1, 0, 0, 0, 0, 0, 0, 0, 0, 0, 0, 0, 0, 0, 0, 0, 0, 0, 0, 0, 0, 0, 0, 0, 0, 1, 0, 0, 0, 0, 0, 0, 0, 0, 0, 0, 0, 0, 0, 0, 0, 0, 0, 0, 0, 0, 0, 0, 0, 0, 0, 0, 0, 0, 0, 0, 0, 0, 0, 0, 0, 0, 0, 0, 0, 0, 0, 0, 0, 0, 0, 0, 0, 0, 0, 0, 0, 0, 0, 0, 0, 0, 0, 0, 0, 0, 0, 0, 0, 0, 0, 0, 0, 0, 0, 0, 0, 0, 0, 0, 0, 0, 0, 0, 0, 0, 0, 0, 0, 0, 0, 0, 0, 0, 0, 0, 0, 0, 0, 0, 0, 0, 0, 0, 0, 0, 0, 0, 0, 0, 0, 0, 0, 0, 0, 0, 0, 0, 0, 0, 0, 0, 0, 0, 0, 0, 0, 0, 0, 0, 0, 0, 0, 0, 0, 0, 0, 0, 0, 0, 0, 0, 0, 0, 0, 0, 0, 0, 0, 0, 0, 0, 0, 0, 0, 0, 0, 0, 0, 0, 0, 0, 0, 0, 0, 0, 0, 0, 0, 0, 0, 0, 0, 0, 0, 0, 0, 0, 0, 0, 0, 0, 0, 0, 0, 0, 0, 0, 0, 0, 0, 0, 0, 0, 0, 0, 0, 0, 0, 0, 0, 0, 0, 0, 0, 0, 0, 0, 0, 0, 0, 0, 0, 0, 0, 0, 0, 0, 0, 0, 0, 0, 0, 0, 0, 0, 0, 0, 0, 0, 0, 0, 0, 0, 0, 0, 0, 0, 0, 0, 0, 0, 0, 0, 0, 0, 0, 0, 0, 0, 0, 0, 0, 0, 0, 0, 0, 0, 0, 0, 0, 0, 0, 0, 0, 0, 0, 0, 0, 0, 0, 0, 0, 0, 0, 0, 0, 0, 0, 0, 0, 0, 0, 0, 0, 0, 0, 0, 0, 0, 0, 0, 0, 0, 0, 0, 0, 0, 0, 0, 0, 0, 0, 0, 0, 0, 0, 0, 0, 0, 0, 0, 0, 0, 0, 0, 0, 0, 0, 0, 0, 0, 0, 0, 0, 0, 0, 0, 0, 0, 0, 0, 0, 0, 0, 0, 0, 0, 0, 0, 0, 0, 0, 0, 0, 0, 0, 0, 0, 0, 0, 0, 0, 0, 0, 0, 0, 0, 0, 0, 0, 0, 0, 0, 0, 0, 0, 0, 0, 0, 0, 0, 0, 0, 0, 0, 0, 0, 0, 0, 0, 0, 0, 0, 0, 0, 0, 1, 0, 0, 0, 0, 0, 1, 1, 1, 0, 0, 0, 0, 0, 0, 0, 0, 0, 0, 0, 0, 0, 0, 0, 0, 0, 0, 0, 0, 0, 0, 0, 0, 0, 0, 0, 0, 0, 0, 0, 0, 0, 0, 0, 0, 0, 0, 0, 0, 0, 0, 0, 0, 0, 0, 0, 0, 0, 0, 0, 0, 0, 0, 0, 0, 0, 0, 0, 0, 0, 0, 0, 0, 0, 0, 0, 0, 0, 0, 0, 0, 0, 0, 0, 0, 0, 0, 0, 0, 0, 0, 0, 0, 0, 0, 0, 0, 0, 0, 0, 0, 0, 0, 0, 0, 0, 0, 0, 0, 1, 0, 0, 0, 0, 0, 0, 0, 0, 0, 0, 1, 1, 1, 0, 0, 0, 1, 0, 0, 0, 0, 0, 0, 0, 0, 0, 0, 0, 0, 0, 0, 0, 0, 0, 0, 0, 0, 0, 0, 0, 0, 0, 1, 1, 1, 0, 0, 0, 0, 0, 0, 0, 0, 0, 0, 0, 0, 0, 0, 0, 0, 0, 0, 0, 0, 0, 0, 0, 0, 0, 0, 0, 0, 0, 0, 0, 0, 0, 0, 0, 0, 0, 0, 0, 0, 0, 0, 0, 0, 0, 0, 0, 0, 0, 0, 0, 0, 0, 0, 0, 0, 0, 0, 0, 0, 0, 0, 0, 0, 0, 0, 0, 0, 0, 0, 0, 0, 0, 0, 0, 0, 0, 0, 0, 0, 0, 0, 0, 0, 0, 0, 0, 0, 0, 0, 0, 0, 0, 0, 0, 0, 0, 0, 0, 0, 0, 0, 0, 0, 0, 0, 0, 0, 0, 0, 0, 0, 0, 0, 0, 1, 1, 1, 1, 0, 0, 0, 0, 0, 0, 0, 0, 0, 0, 0, 0, 0, 0, 0, 0, 0, 0, 0, 0, 0, 0, 0, 0, 0, 0, 0, 0, 0, 0, 0, 0, 0, 0, 0, 0, 0, 0, 0, 0, 0, 0, 0, 0, 0, 0, 0, 0, 0, 0, 0, 0, 0, 0, 0, 0, 0, 0, 0, 0, 0, 0, 0, 0, 0, 0, 0, 0, 0, 0, 0, 0, 0, 0, 0, 0, 0, 0, 0, 0, 0, 0, 0, 0, 0, 0, 0, 0, 0, 0, 0, 0, 0, 0, 0, 0, 0, 0, 0, 0, 0, 0, 0, 0, 0, 0, 0, 0, 0, 0, 0, 0, 0, 0, 0, 0, 0, 0, 0, 0, 0, 0, 0, 0, 0, 0, 0, 0, 0, 0, 0, 0, 0, 0, 0, 0, 0, 0, 0, 0, 0, 0, 0, 0, 0, 0, 0, 0, 0, 0, 0, 0, 0, 0, 0, 0, 0, 0, 0, 0, 0, 0, 0, 0, 0, 0, 0, 0, 0, 0, 0, 0, 0, 0, 0, 0, 0, 0, 0, 0, 0, 0, 0, 0, 0, 0, 0, 0, 0, 0, 0, 0, 0, 0, 0, 0, 0, 0, 0, 0, 0, 0, 0, 0, 0, 0, 0, 0, 0, 0, 0, 0, 0, 0, 0, 0, 0, 0, 0, 0, 0, 0, 0, 0, 0, 0, 0, 0, 0, 0, 0, 0, 0, 0, 0, 0, 0, 0, 0, 0, 0, 0, 0, 0, 0, 0, 0, 0, 0, 0, 0, 0, 0, 0, 0, 0, 0, 0, 0, 0, 0, 0, 0, 0, 0, 0, 0, 0, 0, 0, 0, 0, 0, 0, 0, 0, 0, 0, 0, 0, 0, 0, 0, 0, 0, 0, 0, 0, 0, 0, 0, 0, 0, 0, 0, 0, 0, 0, 0, 0, 0, 0, 0, 0, 0, 0, 0, 0, 0, 0, 0, 0, 0, 0, 0, 0, 0, 0, 0, 0, 0, 0, 0, 0, 0, 0, 0, 0, 0, 0, 0, 0, 0, 0, 0, 0, 0, 0, 0, 0, 0, 0, 0, 0, 0, 0, 0, 0, 0, 0, 0, 0, 0, 0, 0, 0, 0, 0, 0, 0, 0, 0, 0, 0, 0, 1, 1, 1, 1, 0, 0, 0, 0, 0, 0, 0, 0, 0, 0, 0, 0, 0, 0, 0, 0, 0, 0, 0, 0, 0, 0, 0, 0, 0, 0, 0, 0, 0, 0, 0, 0, 0, 0, 0, 0, 0, 0, 0, 0, 0, 0, 0, 0, 0, 0, 0, 0, 0, 0, 0, 0, 0, 0, 0, 0]\n",
      "[0, 0, 0, 0, 0, 0, 0, 0, 0, 1]\n"
     ]
    }
   ],
   "source": [
    "print(train_x[1])\n",
    "print(train_y[1])"
   ]
  },
  {
   "cell_type": "code",
   "execution_count": 6,
   "metadata": {},
   "outputs": [
    {
     "name": "stdout",
     "output_type": "stream",
     "text": [
      "Training Step: 6999  | total loss: \u001b[1m\u001b[32m0.54315\u001b[0m\u001b[0m | time: 0.027s\n",
      "| Adam | epoch: 1000 | loss: 0.54315 - acc: 0.9374 -- iter: 48/56\n",
      "Training Step: 7000  | total loss: \u001b[1m\u001b[32m0.49156\u001b[0m\u001b[0m | time: 0.032s\n",
      "| Adam | epoch: 1000 | loss: 0.49156 - acc: 0.9437 -- iter: 56/56\n",
      "--\n",
      "INFO:tensorflow:/home/hoang.thi.nhung/workspace/project/chatbot/models/model.tflearn is not in all_model_checkpoint_paths. Manually adding it.\n"
     ]
    }
   ],
   "source": [
    "tf.reset_default_graph()\n",
    "\n",
    "net = tflearn.input_data(shape=[None, len(train_x[0])])\n",
    "net = tflearn.fully_connected(net, 8)\n",
    "net = tflearn.fully_connected(net, 8)\n",
    "\n",
    "net = tflearn.fully_connected(net, len(train_y[0]), activation='softmax')\n",
    "net = tflearn.regression(net, optimizer='adam', loss='categorical_crossentropy')\n",
    "\n",
    "model = tflearn.DNN(net, tensorboard_dir='tflearn_logs')\n",
    "\n",
    "model.fit(train_x, train_y, n_epoch=1000, batch_size=8, show_metric=True)\n",
    "model.save('models/model.tflearn')"
   ]
  },
  {
   "cell_type": "code",
   "execution_count": 7,
   "metadata": {},
   "outputs": [],
   "source": [
    "import pickle\n",
    "pickle.dump( {'words':words, 'classes':classes, 'train_x':train_x, 'train_y':train_y}, open( \"models/training_data\", \"wb\" ) )"
   ]
  },
  {
   "cell_type": "code",
   "execution_count": null,
   "metadata": {},
   "outputs": [],
   "source": []
  }
 ],
 "metadata": {
  "kernelspec": {
   "display_name": "Python 3",
   "language": "python",
   "name": "python3"
  },
  "language_info": {
   "codemirror_mode": {
    "name": "ipython",
    "version": 3
   },
   "file_extension": ".py",
   "mimetype": "text/x-python",
   "name": "python",
   "nbconvert_exporter": "python",
   "pygments_lexer": "ipython3",
   "version": "3.5.2"
  }
 },
 "nbformat": 4,
 "nbformat_minor": 2
}
