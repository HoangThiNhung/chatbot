{
 "cells": [
  {
   "cell_type": "code",
   "execution_count": 1,
   "metadata": {},
   "outputs": [
    {
     "name": "stdout",
     "output_type": "stream",
     "text": [
      "hdf5 is not supported on this machine (please install/reinstall h5py for optimal experience)\n",
      "INFO:tensorflow:Restoring parameters from /home/FRAMGIAhoang.thi.nhung/workspace/project/chatbot/models/model.tflearn\n"
     ]
    }
   ],
   "source": [
    "from predict import predict, classify"
   ]
  },
  {
   "cell_type": "code",
   "execution_count": 6,
   "metadata": {},
   "outputs": [
    {
     "name": "stdout",
     "output_type": "stream",
     "text": [
      "Kính chào quý khách. Chúng tôi xin gửi tới quý khách thực đơn của nhà  hàng.\n",
      "[<Menu(category='tráng miệng', title='Tào phớ', price='20.000₫')>, <Menu(category='tráng miệng', title='Chè sương sa hạt lựu', price='28.000₫')>, <Menu(category='món chính', title='Cá kho tộ', price='125.000₫')>, <Menu(category='món chính', title='Canh chua cá lóc', price='110.000₫')>, <Menu(category='tráng miệng', title='Chè chuối hấp nước dừa', price='24.000₫')>, <Menu(category='tráng miệng', title='Chè hạt sen', price='30.000₫')>, <Menu(category='món chính', title='Canh chua tôm Sài Gòn', price='125.000₫')>, <Menu(category='tráng miệng', title='Chè thập cẩm', price='28.000₫')>, <Menu(category='món chính', title='Cơm chiên hải sản', price='115.000₫')>, <Menu(category='món chính', title='Cơm lam muối vừng', price='30.000₫')>, <Menu(category='khai vị', title='Nem cua Hải Phòng', price='70.000₫')>, <Menu(category='tráng miệng', title='Chè ba màu', price='28.000₫')>, <Menu(category='khai vị', title='Bánh rán nhân thịt', price='52.000₫')>, <Menu(category='khai vị', title='Bánh bao chiên nhân thịt', price='50.000₫')>, <Menu(category='khai vị', title='Bánh tôm Hà Nội', price='58.000₫')>, <Menu(category='khai vị', title='Há cảo tôm cua', price='55.000₫')>, <Menu(category='món chính', title='Nem cua bể', price='58.000₫')>, <Menu(category='món chính', title='Lẩu bông Miền Tây ', price='365.000₫')>, <Menu(category='tráng miệng', title='Chè hoa cau', price='24.000₫')>, <Menu(category='khai vị', title='Khoai tây chiên', price='55.000₫')>, <Menu(category='khai vị', title='Bánh bao chay', price='35.000₫')>, <Menu(category='khai vị', title='Nộm bò khô', price='55.000₫')>, <Menu(category='khai vị', title='Bánh đúc nóng', price='26.000₫')>, <Menu(category='món chính', title='Mực một nắng chiên giòn', price='335.000₫')>, <Menu(category='món chính', title='Cơm lam gà nướng', price='95.000₫')>, <Menu(category='khai vị', title='Bánh xèo nhân tôm thịt ', price='68.000₫')>, <Menu(category='khai vị', title='Bánh hỏi heo quay cuốn bánh tráng', price='110.000₫')>, <Menu(category='món chính', title='Phở gà', price='58.000₫')>, <Menu(category='khai vị', title='Bánh hỏi bò nướng cuốn bánh tráng', price='135.000₫')>, <Menu(category='món chính', title='Bún chả kẹp que tre Hà Nội ', price='60.000₫')>, <Menu(category='khai vị', title='Bánh hỏi tôm chấy cuốn bánh tráng', price='115.000₫')>, <Menu(category='món chính', title='Chả cá Hà Nội', price='135.000₫')>, <Menu(category='khai vị', title='Nộm lươn', price='95.000₫')>, <Menu(category='khai vị', title='Xà lách áp chảo thịt bò', price='120.000₫')>, <Menu(category='khai vị', title='Bánh xèo nhân thịt bò', price='68.000₫')>, <Menu(category='khai vị', title='Xà lách trộn dầu giấm', price='55.000₫')>, <Menu(category='khai vị', title='Xà lách cà chua dưa chuột', price='55.000₫')>, <Menu(category='khai vị', title='Xà lách trộn dầu dấm', price='55.000₫')>, <Menu(category='món chính', title='Bún riêu cua', price='55.000₫')>, <Menu(category='món chính', title='Bún thịt luộc mắm tép', price='55.000₫')>, <Menu(category='món chính', title='Hến xúc bánh tráng', price='105.000₫')>, <Menu(category='khai vị', title='Nộm lạc', price='35.000₫')>, <Menu(category='khai vị', title='Súp cua măng tây', price='55.000₫')>, <Menu(category='món chính', title='Bò nướng lá lốt', price='140.000₫')>, <Menu(category='khai vị', title='Nộm chim cút', price='55.000₫')>, <Menu(category='món chính', title='Lẩu cá song', price='950.000₫')>, <Menu(category='món chính', title='Nghêu vàng nướng mỡ hành', price='120.000₫')>, <Menu(category='món chính', title='Cá song nướng muối ớt', price='950.000₫')>, <Menu(category='món chính', title='Thịt kho tộ', price='95.000₫')>, <Menu(category='khai vị', title='Nem cuốn', price='16.000₫')>, <Menu(category='món chính', title='Xôi xéo gà quay', price='85.000₫')>, <Menu(category='món chính', title='Cơm tấm sườn bì', price='60.000₫')>, <Menu(category='món chính', title='Cơm tấm bì thịt nướng', price='60.000₫')>, <Menu(category='món chính', title='Gỏi cuốn tôm thịt ', price='20.000₫')>, <Menu(category='món chính', title='Xôi ngô ', price='25.000₫')>, <Menu(category='món chính', title='Cơm tấm sườn chả', price='60.000₫')>, <Menu(category='món chính', title='Chim câu nướng lá chanh', price='160.000₫')>, <Menu(category='món chính', title='Phở bò', price='58.000₫')>, <Menu(category='khai vị', title='Gỏi cuốn tai heo chấm mắm nêm', price='18.000₫')>, <Menu(category='món chính', title='Cá song hấp xì dầu cuốn bánh tráng', price='950.000₫')>, <Menu(category='khai vị', title='Súp gà', price='30.000₫')>, <Menu(category='món chính', title='Bún ốc om chuối đậu', price='60.000₫')>, <Menu(category='món chính', title='Bún nem nướng', price='60.000₫')>, <Menu(category='khai vị', title='Gỏi bò bóp thấu', price='120.000₫')>, <Menu(category='khai vị', title='Gỏi ngó sen tôm thịt', price='120.000₫')>, <Menu(category='khai vị', title='Súp lươn', price='30.000₫')>, <Menu(category='món chính', title='Sủi cảo tôm tươi', price='55.000₫')>, <Menu(category='khai vị', title='Gỏi gà Hội An', price='165.000₫')>, <Menu(category='khai vị', title=' Gỏi xoài hải sản', price='130.000₫')>, <Menu(category='khai vị', title='Gỏi cổ hũ dừa tôm thịt', price='130.000₫')>, <Menu(category='khai vị', title='Xúp cua bể măng tây', price='55.000₫')>, <Menu(category='khai vị', title='Bánh xèo nhân hải sản', price='68.000₫')>, <Menu(category='món chính', title='Bánh giò', price='26.000₫')>, <Menu(category='khai vị', title='Nộm thập cẩm', price='55.000₫')>, <Menu(category='món chính', title='Bún dọc mùng chân giò', price='55.000₫')>, <Menu(category='khai vị', title='Nộm chim sẻ', price='55.000₫')>, <Menu(category='món chính', title='Mỳ vằn thắn', price='58.000₫')>, <Menu(category='khai vị', title='Nộm gà hoa chuối', price='120.000₫')>, <Menu(category='món chính', title='Bún ốc ', price='55.000₫')>, <Menu(category='khai vị', title='Bánh hỏi chạo tôm cuốn bánh tráng', price='135.000₫')>, <Menu(category='khai vị', title='Bánh hỏi nem nướng cuốn bánh tráng ', price='135.000₫')>, <Menu(category='món chính', title='Gà rang muối', price='320.000₫')>, <Menu(category='khai vị', title='Bánh đúc lạc chấm tương bần', price='26.000₫')>, <Menu(category='món chính', title='Phở xào bò', price='105.000₫')>, <Menu(category='món chính', title='Rau cải ngọt xào tỏi/luộc', price='55.000₫')>, <Menu(category='món chính', title='Nui xào bò băm', price='105.000₫')>, <Menu(category='món chính', title='Súp lơ xào tỏi/luộc', price='65.000₫')>, <Menu(category='món chính', title='Phở xào rau', price='80.000₫')>, <Menu(category='món chính', title='Mì xào bò', price='105.000₫')>, <Menu(category='món chính', title='Miến xào lươn', price='105.000₫')>, <Menu(category='món chính', title='Cơm tấm bì sườn chả', price='65.000₫')>, <Menu(category='món chính', title='Mì xào hải sản', price='125.000₫')>, <Menu(category='khai vị', title='Nem lụi Huế', price='110.000₫')>, <Menu(category='món chính', title='Cơm chiên thập cẩm', price='95.000₫')>, <Menu(category='món chính', title='Cơm chiên tỏi', price='50.000₫')>, <Menu(category='món chính', title='Lẩu riêu cua bắp bò', price='360.000₫')>, <Menu(category='món chính', title='Lẩu cá lăng măng chua', price='365.000₫')>, <Menu(category='món chính', title='Lẩu cá chình', price='575.000₫')>, <Menu(category='món chính', title='Lẩu cua bể', price='575.000₫')>, <Menu(category='món chính', title='Bò lúc lắc khoai tây chiên', price='125.000₫')>, <Menu(category='món chính', title='Bún gạo xào tôm thịt', price='125.000₫')>, <Menu(category='món chính', title='Rau muống xào tỏi', price='65.000₫')>, <Menu(category='món chính', title='Ngọn su su xào tỏi', price='65.000₫')>, <Menu(category='món chính', title='Cánh gà chiên tỏi', price='60.000₫')>, <Menu(category='món chính', title='Bò nướng Quán Ăn Ngon', price='140.000₫')>, <Menu(category='món chính', title='Lẩu hải sản chua cay', price='350.000₫')>, <Menu(category='món chính', title='Hàu tẩm bột chiên', price='140.000₫')>, <Menu(category='món chính', title='Sườn nướng xả ớt', price='135.000₫')>, <Menu(category='món chính', title='Chim câu quay', price='160.000₫')>, <Menu(category='món chính', title='Heo xiên nướng', price='40.000₫')>, <Menu(category='món chính', title='Ngan chặt', price='125.000₫')>, <Menu(category='món chính', title='Bò nướng muối ớt', price='140.000₫')>, <Menu(category='món chính', title='Chim sẻ quay', price='90.000₫')>, <Menu(category='món chính', title='Gà lên mâm', price='650.000₫')>, <Menu(category='món chính', title='Chim cút quay', price='80.000₫')>, <Menu(category='món chính', title='Đùi gà nướng', price='70.000₫')>, <Menu(category='món chính', title='Bò nướng Quán Ăn Ngon', price='140.000₫')>, <Menu(category='món chính', title='Lẩu gà', price='360.000₫')>, <Menu(category='món chính', title='Ốc hương nướng', price='170.000₫')>, <Menu(category='món chính', title='Hàu nướng mỡ hành', price='140.000₫')>, <Menu(category='món chính', title='Gà hấp lá chanh', price='320.000₫')>, <Menu(category='món chính', title='Mực cơm xóc tỏi', price='135.000₫')>, <Menu(category='món chính', title='Nghêu hấp xả', price='85.000₫')>, <Menu(category='món chính', title='Mực nướng muối ớt  ', price='335.000₫')>, <Menu(category='món chính', title='Mực vòng tẩm bột chiên', price='135.000₫')>, <Menu(category='món chính', title='Sò huyết nướng', price='115.000₫')>, <Menu(category='món chính', title='Mực một nắng nướng', price='335.000₫')>, <Menu(category='món chính', title='Mực tươi hấp hành gừng', price='135.000₫')>, <Menu(category='món chính', title='Hàu sống mù tạt', price='140.000₫')>, <Menu(category='món chính', title='Chả mực Hạ Long', price='125.000₫')>, <Menu(category='món chính', title='Cá thu nướng muối ớt', price='115.000₫')>, <Menu(category='món chính', title='Cá điêu hồng nướng muối ớt', price='245.000₫')>, <Menu(category='món chính', title='Ốc mít hấp xả', price='70.000₫')>, <Menu(category='món chính', title='Cua rang muối', price='505.000₫')>, <Menu(category='món chính', title='Cua sốt me', price='505.000₫')>, <Menu(category='món chính', title='Cá chình nướng riềng mẻ', price='575.000₫')>, <Menu(category='món chính', title='Tôm càng xanh nướng', price='200.000₫')>, <Menu(category='món chính', title='Cua nướng', price='505.000₫')>, <Menu(category='món chính', title='Cua hấp', price='505.000₫')>, <Menu(category='món chính', title='Cá lóc hấp cuốn bánh tráng', price='250.000₫')>, <Menu(category='món chính', title='Cá điêu hồng hấp xì dầu', price='245.000₫')>, <Menu(category='món chính', title='Cá lăng nướng muối ớt', price='155.000₫')>, <Menu(category='món chính', title='Tôm sú nướng ', price='140.000₫')>, <Menu(category='món chính', title='Bún mắm', price='60.000₫')>, <Menu(category='món chính', title='Bún bò viên gân', price='55.000₫')>, <Menu(category='món chính', title='Tôm hấp nước dừa', price='195.000₫')>, <Menu(category='món chính', title='phở cuốn Hà Nội', price='16.000₫')>, <Menu(category='món chính', title='Tôm chiên xù', price='195.000₫')>, <Menu(category='món chính', title='Hủ tiếu bò viên gân', price='55.000₫')>, <Menu(category='món chính', title='Tôm hấp cuốn bánh tráng', price='195.000₫')>, <Menu(category='món chính', title='Nem chua', price='16.000₫')>, <Menu(category='món chính', title='Tôm chiên mắm xả ớt', price='195.000₫')>, <Menu(category='món chính', title='Hủ tiếu Nam Vang khô', price='60.000₫')>, <Menu(category='món chính', title='Bánh quẩy', price='15.000₫')>, <Menu(category='món chính', title='Bún bò Nam Bộ', price='65.000₫')>, <Menu(category='món chính', title='Bánh cuốn nhân thịt', price='55.000₫')>, <Menu(category='món chính', title='Mỳ Quảng', price='60.000₫')>, <Menu(category='món chính', title='Bánh khọt vũng tàu', price='65.000₫')>, <Menu(category='món chính', title='Bánh tráng Trảng Bàng', price='145.000₫')>, <Menu(category='món chính', title='Bánh cuốn nhân tôm', price='55.000₫')>, <Menu(category='món chính', title='Bánh cuốn chả quế', price='55.000₫')>, <Menu(category='món chính', title='Bún măng gà', price='55.000₫')>, <Menu(category='món chính', title='Bánh cuốn Phủ Lý', price='65.000₫')>, <Menu(category='món chính', title='Miến măng gà', price='58.000₫')>, <Menu(category='món chính', title='Bún bò Huế', price='60.000₫')>, <Menu(category='món chính', title='Hủ tiếu nam vang', price='60.000₫')>, <Menu(category='món chính', title='Cơm cháy Hải Sản', price='140.000₫')>, <Menu(category='món chính', title='Cơm hến trộn', price='60.000₫')>, <Menu(category='món chính', title='Bánh bèo chén', price='60.000₫')>, <Menu(category='món chính', title='Bún măng sườn mọc', price='55.000₫')>, <Menu(category='món chính', title='Bánh gối', price='58.000₫')>, <Menu(category='món chính', title='Bánh ít trần', price='60.000₫')>, <Menu(category='món chính', title='Bún thang Hà Nội', price='60.000₫')>, <Menu(category='món chính', title='Bánh bột lọc Huế', price='60.000₫')>, <Menu(category='món chính', title='Bún đậu rán mắm tôm', price='50.000₫')>, <Menu(category='món chính', title='Bánh bột lọc Hà Nội', price='60.000₫')>, <Menu(category='món chính', title='Bánh canh cua', price='65.000₫')>, <Menu(category='món chính', title='Cơm gà hội an', price='175.000₫')>]\n"
     ]
    }
   ],
   "source": [
    "predict('Cho mình mượn thực đơn')"
   ]
  },
  {
   "cell_type": "code",
   "execution_count": 3,
   "metadata": {},
   "outputs": [
    {
     "data": {
      "text/plain": [
       "[('table', 0.39516848), ('menu', 0.26184788)]"
      ]
     },
     "execution_count": 3,
     "metadata": {},
     "output_type": "execute_result"
    }
   ],
   "source": [
    "classify(\"cho mình hỏi ở đây còn bàn không ạ\")"
   ]
  },
  {
   "cell_type": "code",
   "execution_count": 4,
   "metadata": {},
   "outputs": [
    {
     "name": "stdout",
     "output_type": "stream",
     "text": [
      "Hóa đơn của anh chị hết 1.230.000 VNĐ\n"
     ]
    }
   ],
   "source": [
    "predict('Thanh toán hóa đơn giúp anh em ơi')"
   ]
  },
  {
   "cell_type": "code",
   "execution_count": 5,
   "metadata": {},
   "outputs": [
    {
     "name": "stdout",
     "output_type": "stream",
     "text": [
      "Hiện nay, chúng tôi đang có các chương trình khuyến mãi sau. Mời quý khách tham khảo\n",
      "[<Promotion(code='U23', discount='23%', content='Mừng U23 Viet Nam')>]\n"
     ]
    }
   ],
   "source": [
    "predict(\"Hôm nay có khuyến mại gì không em?\")"
   ]
  },
  {
   "cell_type": "code",
   "execution_count": null,
   "metadata": {},
   "outputs": [],
   "source": []
  }
 ],
 "metadata": {
  "kernelspec": {
   "display_name": "Python 3",
   "language": "python",
   "name": "python3"
  },
  "language_info": {
   "codemirror_mode": {
    "name": "ipython",
    "version": 3
   },
   "file_extension": ".py",
   "mimetype": "text/x-python",
   "name": "python",
   "nbconvert_exporter": "python",
   "pygments_lexer": "ipython3",
   "version": "3.4.3"
  }
 },
 "nbformat": 4,
 "nbformat_minor": 2
}
